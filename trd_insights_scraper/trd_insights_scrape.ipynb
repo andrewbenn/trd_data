{
 "cells": [
  {
   "cell_type": "code",
   "execution_count": 48,
   "metadata": {},
   "outputs": [],
   "source": [
    "# import libraries\n",
    "\n",
    "from bs4 import BeautifulSoup  ## web scraping\n",
    "import requests ## request html for a page(s)\n",
    "import csv ## read or write to csv\n",
    "import pandas as pd ## pandas to work with data\n",
    "import re ## regular express in one of our functions\n",
    "import unicodedata ##cleans up unwanted special characters that may be buried in a site's html\n",
    "from random import randrange ##  allows us to randomize numbers library\n",
    "import time ## time tracker"
   ]
  },
  {
   "cell_type": "code",
   "execution_count": 3,
   "metadata": {},
   "outputs": [],
   "source": [
    "url = \"https://therealdeal.com/tag/trd-insights/\""
   ]
  },
  {
   "cell_type": "code",
   "execution_count": 4,
   "metadata": {},
   "outputs": [
    {
     "name": "stdout",
     "output_type": "stream",
     "text": [
      "<Response [200]>\n"
     ]
    }
   ],
   "source": [
    "## We use the request library to grab page content\n",
    "## get contents of URL and store in object called page.\n",
    "## Let's print page and see what we have.\n",
    "page = requests.get(url)\n",
    "print(page)"
   ]
  },
  {
   "cell_type": "code",
   "execution_count": 5,
   "metadata": {},
   "outputs": [
    {
     "data": {
      "text/plain": [
       "requests.models.Response"
      ]
     },
     "execution_count": 5,
     "metadata": {},
     "output_type": "execute_result"
    }
   ],
   "source": [
    "## what type of object is it?\n",
    "type(page)"
   ]
  },
  {
   "cell_type": "code",
   "execution_count": 6,
   "metadata": {},
   "outputs": [],
   "source": [
    "## We'll used BeautifulSoup to convert content into content we recognize\n",
    "soup = BeautifulSoup(page.content, \"html.parser\")\n",
    "#print(soup)"
   ]
  },
  {
   "cell_type": "code",
   "execution_count": 7,
   "metadata": {},
   "outputs": [
    {
     "data": {
      "text/plain": [
       "[<h4 class=\"trd-article-title\">Here’s what tenants are paying at One Park Ave</h4>,\n",
       " <h4 class=\"trd-article-title\">Here’s what tenants are paying at Vornado’s 909 Third Avenue</h4>,\n",
       " <h4 class=\"trd-article-title\">Here’s what tenants are paying at Macerich’s Kings Plaza mall</h4>,\n",
       " <h4 class=\"trd-article-title\">Data center demand — and rent — surge in secondary markets</h4>,\n",
       " <h4 class=\"trd-article-title\">Here’s what tenants pay at the redeveloped Hudson Commons</h4>,\n",
       " <h4 class=\"trd-article-title\">Here’s what tenants pay at CIM &amp; QSuper’s 1440 Broadway</h4>,\n",
       " <h4 class=\"trd-article-title\">Here’s what Amazon and others are paying at 601W’s 410 Tenth Avenue</h4>,\n",
       " <h4 class=\"trd-article-title\">Here’s what tenants are paying at ELO’s Diamond District properties</h4>,\n",
       " <h4 class=\"trd-article-title\">South Korea now No. 2 foreign investor in US CRE</h4>,\n",
       " <h4 class=\"trd-article-title\">US hotel market had worst year since the Great Depression</h4>]"
      ]
     },
     "execution_count": 7,
     "metadata": {},
     "output_type": "execute_result"
    }
   ],
   "source": [
    "## soup captures the entire page.\n",
    "## we narrow it down to capture our target section and store in object\n",
    "## Here we are capturing article title on each page\n",
    "article_title = soup.find_all(\"h4\", class_=\"trd-article-title\")\n",
    "article_title"
   ]
  },
  {
   "cell_type": "code",
   "execution_count": 8,
   "metadata": {},
   "outputs": [
    {
     "data": {
      "text/plain": [
       "[<span class=\"date\">April 16, 2021 08:00AM</span>,\n",
       " <span class=\"date\">April 01, 2021 07:00AM</span>,\n",
       " <span class=\"date\">March 22, 2021 08:00AM</span>,\n",
       " <span class=\"date\">March 18, 2021 08:15AM</span>,\n",
       " <span class=\"date\">March 15, 2021 07:00AM</span>,\n",
       " <span class=\"date\">March 04, 2021 08:00AM</span>,\n",
       " <span class=\"date\">March 02, 2021 07:00AM</span>,\n",
       " <span class=\"date\">March 01, 2021 08:00AM</span>,\n",
       " <span class=\"date\">February 25, 2021 07:00AM</span>,\n",
       " <span class=\"date\">February 23, 2021 08:30AM</span>]"
      ]
     },
     "execution_count": 8,
     "metadata": {},
     "output_type": "execute_result"
    }
   ],
   "source": [
    "## Here we are capturing article date on each page\n",
    "article_date = soup.find_all(\"span\", class_=\"date\")\n",
    "article_date"
   ]
  },
  {
   "cell_type": "code",
   "execution_count": 61,
   "metadata": {},
   "outputs": [
    {
     "data": {
      "text/plain": [
       "[<a class=\"trd-article-link\" href=\"https://therealdeal.com/2020/11/30/heres-what-2021-has-in-store-for-the-cmbs-market/\">Here’s what 2021 has in store for the CMBS market</a>,\n",
       " <a class=\"trd-article-link\" href=\"https://therealdeal.com/2020/11/24/what-doom-and-gloom-forecasts-miss-about-the-office-market/\">What doom-and-gloom forecasts miss about the office market</a>,\n",
       " <a class=\"trd-article-link\" href=\"https://therealdeal.com/2020/11/23/these-are-the-biggest-malls-landlords-are-ready-to-hand-over-to-cmbs-lenders/\">These are the biggest malls landlords ready to hand over to CMBS lenders</a>,\n",
       " <a class=\"trd-article-link\" href=\"https://therealdeal.com/2020/11/20/heres-what-tenants-are-paying-at-brookfield-swigs-grace-building/\">Here’s what tenants are paying at Brookfield &amp; Swig’s Grace Building</a>,\n",
       " <a class=\"trd-article-link\" href=\"https://therealdeal.com/2020/11/20/workers-in-prime-earning-years-are-struggling-to-pay-rent-survey/\">Workers in prime earning years are struggling to pay rent: Survey</a>,\n",
       " <a class=\"trd-article-link\" href=\"https://therealdeal.com/2020/11/20/here-are-the-markets-where-hotels-are-hurting-the-most/\">Here are the markets where hotels are hurting the most</a>,\n",
       " <a class=\"trd-article-link\" href=\"https://therealdeal.com/2020/11/19/the-rise-of-soundstage-real-estate-by-the-numbers/\">The rise of soundstage real estate, by the numbers</a>,\n",
       " <a class=\"trd-article-link\" href=\"https://therealdeal.com/2020/11/18/return-of-the-non-banks-alternative-lenders-show-signs-of-life/\">Return of the non-banks: Alternative lenders show signs of life</a>,\n",
       " <a class=\"trd-article-link\" href=\"https://therealdeal.com/2020/11/17/climate-concern-driving-down-sales-and-prices-along-coastal-florida-report/\">Climate concern driving down sales and prices along coastal Florida: report</a>,\n",
       " <a class=\"trd-article-link\" href=\"https://therealdeal.com/2020/11/10/foreclosure-filings-picked-up-in-october-up-despite-moratoriums/\">Foreclosure filings picked up in October up despite moratoriums</a>]"
      ]
     },
     "execution_count": 61,
     "metadata": {},
     "output_type": "execute_result"
    }
   ],
   "source": [
    "article_url = soup.find_all(\"a\", class_=\"trd-article-link\")\n",
    "article_url"
   ]
  },
  {
   "cell_type": "code",
   "execution_count": 33,
   "metadata": {},
   "outputs": [
    {
     "data": {
      "text/plain": [
       "['April 16, 2021 08:00AM',\n",
       " 'April 01, 2021 07:00AM',\n",
       " 'March 22, 2021 08:00AM',\n",
       " 'March 18, 2021 08:15AM',\n",
       " 'March 15, 2021 07:00AM',\n",
       " 'March 04, 2021 08:00AM',\n",
       " 'March 02, 2021 07:00AM',\n",
       " 'March 01, 2021 08:00AM',\n",
       " 'February 25, 2021 07:00AM',\n",
       " 'February 23, 2021 08:30AM']"
      ]
     },
     "execution_count": 33,
     "metadata": {},
     "output_type": "execute_result"
    }
   ],
   "source": [
    "list_of_dates = []\n",
    "for x in article_date:\n",
    "    span = x.text\n",
    "    list_of_dates.append(span)\n",
    "list_of_dates"
   ]
  },
  {
   "cell_type": "code",
   "execution_count": 35,
   "metadata": {},
   "outputs": [
    {
     "data": {
      "text/plain": [
       "['Here’s what tenants are paying at One Park Ave',\n",
       " 'Here’s what tenants are paying at Vornado’s 909 Third Avenue',\n",
       " 'Here’s what tenants are paying at Macerich’s Kings Plaza mall',\n",
       " 'Data center demand — and rent — surge in secondary markets',\n",
       " 'Here’s what tenants pay at the redeveloped Hudson Commons',\n",
       " 'Here’s what tenants pay at CIM & QSuper’s 1440 Broadway',\n",
       " 'Here’s what Amazon and others are paying at 601W’s 410 Tenth Avenue',\n",
       " 'Here’s what tenants are paying at ELO’s Diamond District properties',\n",
       " 'South Korea now No. 2 foreign investor in US CRE',\n",
       " 'US hotel market had worst year since the Great Depression']"
      ]
     },
     "execution_count": 35,
     "metadata": {},
     "output_type": "execute_result"
    }
   ],
   "source": [
    "list_of_titles = []\n",
    "for y in article_title:\n",
    "    spans = y.get_text()\n",
    "    list_of_titles.append(spans)\n",
    "list_of_titles"
   ]
  },
  {
   "cell_type": "code",
   "execution_count": 47,
   "metadata": {},
   "outputs": [],
   "source": [
    "## broken code below. Can't figure out how to work\n",
    "##list_of_urls = []\n",
    "##for z in article_url:\n",
    "##    spanss = z.text\n",
    "##    list_of_urls.append(spanss)\n",
    "##list_of_urls"
   ]
  },
  {
   "cell_type": "code",
   "execution_count": 50,
   "metadata": {},
   "outputs": [
    {
     "data": {
      "text/plain": [
       "'https://therealdeal.com/tag/trd-insights/page/{}/'"
      ]
     },
     "execution_count": 50,
     "metadata": {},
     "output_type": "execute_result"
    }
   ],
   "source": [
    "#trying to do a link scrape per page\n",
    "base_link = \"https://therealdeal.com/tag/trd-insights/page/{}/\"\n",
    "base_link"
   ]
  },
  {
   "cell_type": "code",
   "execution_count": 51,
   "metadata": {},
   "outputs": [],
   "source": [
    "#total insight pages\n",
    "total_pages = 20"
   ]
  },
  {
   "cell_type": "code",
   "execution_count": 64,
   "metadata": {},
   "outputs": [
    {
     "name": "stdout",
     "output_type": "stream",
     "text": [
      "200\n",
      "snoozing for 5 seconds before next url\n",
      "200\n",
      "snoozing for 5 seconds before next url\n",
      "200\n",
      "snoozing for 4 seconds before next url\n",
      "200\n",
      "snoozing for 3 seconds before next url\n",
      "200\n",
      "snoozing for 3 seconds before next url\n",
      "200\n",
      "snoozing for 3 seconds before next url\n",
      "200\n",
      "snoozing for 9 seconds before next url\n",
      "200\n",
      "snoozing for 4 seconds before next url\n",
      "200\n",
      "snoozing for 5 seconds before next url\n",
      "200\n",
      "snoozing for 5 seconds before next url\n",
      "200\n",
      "snoozing for 4 seconds before next url\n",
      "200\n",
      "snoozing for 4 seconds before next url\n",
      "200\n",
      "snoozing for 9 seconds before next url\n",
      "200\n",
      "snoozing for 3 seconds before next url\n",
      "200\n",
      "snoozing for 7 seconds before next url\n",
      "200\n",
      "snoozing for 8 seconds before next url\n",
      "200\n",
      "snoozing for 3 seconds before next url\n",
      "200\n",
      "snoozing for 7 seconds before next url\n",
      "200\n",
      "snoozing for 3 seconds before next url\n",
      "200\n",
      "snoozing for 5 seconds before next url\n",
      "Done scraping\n"
     ]
    }
   ],
   "source": [
    "# broken code. Need to fix\n",
    "df_all = []\n",
    "for url_number in range(0,total_pages):\n",
    "    link = base_link.format(url_number)\n",
    "    site = requests.get(link)\n",
    "    print(site.status_code)\n",
    "    if site.status_code == 200:\n",
    "        soup = BeautifulSoup(site.content, \"html.parser\")\n",
    "        html = soup.prettify()  ## turn soup into html \n",
    "        \n",
    "        article_title = soup.find_all(\"h4\", class_=\"trd-article-title\")\n",
    "        #print(article_title)\n",
    "        \n",
    "        list_of_titles = []\n",
    "        for y in article_title:\n",
    "            spans = y.get_text()\n",
    "            list_of_titles.append(spans)\n",
    "        #print(list_of_titles)\n",
    "        \n",
    "        list_of_dates = []\n",
    "        for x in article_date:\n",
    "            span = x.text\n",
    "            list_of_dates.append(span)\n",
    "        #print(list_of_dates)\n",
    "        \n",
    "        snooze = randrange(3,10)\n",
    "        print(f\"snoozing for {snooze} seconds before next url\")\n",
    "        time.sleep(snooze)\n",
    "        \n",
    "    else: \n",
    "        print(f\"{link} returned: \", site.status_code)\n",
    "        \n",
    "    # store values in a result object\n",
    "    result = {\n",
    "        'list_of_titles': list_of_titles,\n",
    "        'list_of_dates': list_of_dates\n",
    "     }\n",
    "\n",
    "    # append result object to results\n",
    "    df_all.append(result)\n",
    "print(\"Done scraping\")"
   ]
  },
  {
   "cell_type": "code",
   "execution_count": 67,
   "metadata": {},
   "outputs": [
    {
     "data": {
      "text/html": [
       "<div>\n",
       "<style scoped>\n",
       "    .dataframe tbody tr th:only-of-type {\n",
       "        vertical-align: middle;\n",
       "    }\n",
       "\n",
       "    .dataframe tbody tr th {\n",
       "        vertical-align: top;\n",
       "    }\n",
       "\n",
       "    .dataframe thead th {\n",
       "        text-align: right;\n",
       "    }\n",
       "</style>\n",
       "<table border=\"1\" class=\"dataframe\">\n",
       "  <thead>\n",
       "    <tr style=\"text-align: right;\">\n",
       "      <th></th>\n",
       "      <th>list_of_titles</th>\n",
       "      <th>list_of_dates</th>\n",
       "    </tr>\n",
       "  </thead>\n",
       "  <tbody>\n",
       "    <tr>\n",
       "      <th>0</th>\n",
       "      <td>[Here’s what tenants are paying at One Park Av...</td>\n",
       "      <td>[April 16, 2021 08:00AM, April 01, 2021 07:00A...</td>\n",
       "    </tr>\n",
       "    <tr>\n",
       "      <th>1</th>\n",
       "      <td>[Here’s what tenants are paying at One Park Av...</td>\n",
       "      <td>[April 16, 2021 08:00AM, April 01, 2021 07:00A...</td>\n",
       "    </tr>\n",
       "    <tr>\n",
       "      <th>2</th>\n",
       "      <td>[What tenants pay Fisher Brothers &amp; JPMorgan a...</td>\n",
       "      <td>[April 16, 2021 08:00AM, April 01, 2021 07:00A...</td>\n",
       "    </tr>\n",
       "    <tr>\n",
       "      <th>3</th>\n",
       "      <td>[Here’s what 2021 has in store for the CMBS ma...</td>\n",
       "      <td>[April 16, 2021 08:00AM, April 01, 2021 07:00A...</td>\n",
       "    </tr>\n",
       "    <tr>\n",
       "      <th>4</th>\n",
       "      <td>[Here’s where real estate leaders put their mo...</td>\n",
       "      <td>[April 16, 2021 08:00AM, April 01, 2021 07:00A...</td>\n",
       "    </tr>\n",
       "    <tr>\n",
       "      <th>5</th>\n",
       "      <td>[Cash-strapped borrowers are increasingly givi...</td>\n",
       "      <td>[April 16, 2021 08:00AM, April 01, 2021 07:00A...</td>\n",
       "    </tr>\n",
       "    <tr>\n",
       "      <th>6</th>\n",
       "      <td>[Here’s what tenants are paying at Florida’s l...</td>\n",
       "      <td>[April 16, 2021 08:00AM, April 01, 2021 07:00A...</td>\n",
       "    </tr>\n",
       "    <tr>\n",
       "      <th>7</th>\n",
       "      <td>[What tenants are paying at Vornado’s theMART ...</td>\n",
       "      <td>[April 16, 2021 08:00AM, April 01, 2021 07:00A...</td>\n",
       "    </tr>\n",
       "    <tr>\n",
       "      <th>8</th>\n",
       "      <td>[Here are the landlords benefiting from Amazon...</td>\n",
       "      <td>[April 16, 2021 08:00AM, April 01, 2021 07:00A...</td>\n",
       "    </tr>\n",
       "    <tr>\n",
       "      <th>9</th>\n",
       "      <td>[TRD Insights: Nationwide office leasing deman...</td>\n",
       "      <td>[April 16, 2021 08:00AM, April 01, 2021 07:00A...</td>\n",
       "    </tr>\n",
       "    <tr>\n",
       "      <th>10</th>\n",
       "      <td>[TRD Insights: Home loan delinquencies soar in...</td>\n",
       "      <td>[April 16, 2021 08:00AM, April 01, 2021 07:00A...</td>\n",
       "    </tr>\n",
       "    <tr>\n",
       "      <th>11</th>\n",
       "      <td>[TRD Insights: What a record month for contrac...</td>\n",
       "      <td>[April 16, 2021 08:00AM, April 01, 2021 07:00A...</td>\n",
       "    </tr>\n",
       "    <tr>\n",
       "      <th>12</th>\n",
       "      <td>[TRD Insights: Home-flipping margins have nose...</td>\n",
       "      <td>[April 16, 2021 08:00AM, April 01, 2021 07:00A...</td>\n",
       "    </tr>\n",
       "    <tr>\n",
       "      <th>13</th>\n",
       "      <td>[TRD Insights: Manhattan office leasing inches...</td>\n",
       "      <td>[April 16, 2021 08:00AM, April 01, 2021 07:00A...</td>\n",
       "    </tr>\n",
       "    <tr>\n",
       "      <th>14</th>\n",
       "      <td>[TRD Insights: Homebuilder confidence rebounde...</td>\n",
       "      <td>[April 16, 2021 08:00AM, April 01, 2021 07:00A...</td>\n",
       "    </tr>\n",
       "    <tr>\n",
       "      <th>15</th>\n",
       "      <td>[TRD Insights: MBA finds 8% of home loans in f...</td>\n",
       "      <td>[April 16, 2021 08:00AM, April 01, 2021 07:00A...</td>\n",
       "    </tr>\n",
       "    <tr>\n",
       "      <th>16</th>\n",
       "      <td>[TRD Insights: Every resi deal in NYC last wee...</td>\n",
       "      <td>[April 16, 2021 08:00AM, April 01, 2021 07:00A...</td>\n",
       "    </tr>\n",
       "    <tr>\n",
       "      <th>17</th>\n",
       "      <td>[TRD Insights: Hotel revenue improves from aby...</td>\n",
       "      <td>[April 16, 2021 08:00AM, April 01, 2021 07:00A...</td>\n",
       "    </tr>\n",
       "    <tr>\n",
       "      <th>18</th>\n",
       "      <td>[Majority of Americans support Ilhan Omar’s na...</td>\n",
       "      <td>[April 16, 2021 08:00AM, April 01, 2021 07:00A...</td>\n",
       "    </tr>\n",
       "    <tr>\n",
       "      <th>19</th>\n",
       "      <td>[China is home to the most real estate billion...</td>\n",
       "      <td>[April 16, 2021 08:00AM, April 01, 2021 07:00A...</td>\n",
       "    </tr>\n",
       "  </tbody>\n",
       "</table>\n",
       "</div>"
      ],
      "text/plain": [
       "                                       list_of_titles  \\\n",
       "0   [Here’s what tenants are paying at One Park Av...   \n",
       "1   [Here’s what tenants are paying at One Park Av...   \n",
       "2   [What tenants pay Fisher Brothers & JPMorgan a...   \n",
       "3   [Here’s what 2021 has in store for the CMBS ma...   \n",
       "4   [Here’s where real estate leaders put their mo...   \n",
       "5   [Cash-strapped borrowers are increasingly givi...   \n",
       "6   [Here’s what tenants are paying at Florida’s l...   \n",
       "7   [What tenants are paying at Vornado’s theMART ...   \n",
       "8   [Here are the landlords benefiting from Amazon...   \n",
       "9   [TRD Insights: Nationwide office leasing deman...   \n",
       "10  [TRD Insights: Home loan delinquencies soar in...   \n",
       "11  [TRD Insights: What a record month for contrac...   \n",
       "12  [TRD Insights: Home-flipping margins have nose...   \n",
       "13  [TRD Insights: Manhattan office leasing inches...   \n",
       "14  [TRD Insights: Homebuilder confidence rebounde...   \n",
       "15  [TRD Insights: MBA finds 8% of home loans in f...   \n",
       "16  [TRD Insights: Every resi deal in NYC last wee...   \n",
       "17  [TRD Insights: Hotel revenue improves from aby...   \n",
       "18  [Majority of Americans support Ilhan Omar’s na...   \n",
       "19  [China is home to the most real estate billion...   \n",
       "\n",
       "                                        list_of_dates  \n",
       "0   [April 16, 2021 08:00AM, April 01, 2021 07:00A...  \n",
       "1   [April 16, 2021 08:00AM, April 01, 2021 07:00A...  \n",
       "2   [April 16, 2021 08:00AM, April 01, 2021 07:00A...  \n",
       "3   [April 16, 2021 08:00AM, April 01, 2021 07:00A...  \n",
       "4   [April 16, 2021 08:00AM, April 01, 2021 07:00A...  \n",
       "5   [April 16, 2021 08:00AM, April 01, 2021 07:00A...  \n",
       "6   [April 16, 2021 08:00AM, April 01, 2021 07:00A...  \n",
       "7   [April 16, 2021 08:00AM, April 01, 2021 07:00A...  \n",
       "8   [April 16, 2021 08:00AM, April 01, 2021 07:00A...  \n",
       "9   [April 16, 2021 08:00AM, April 01, 2021 07:00A...  \n",
       "10  [April 16, 2021 08:00AM, April 01, 2021 07:00A...  \n",
       "11  [April 16, 2021 08:00AM, April 01, 2021 07:00A...  \n",
       "12  [April 16, 2021 08:00AM, April 01, 2021 07:00A...  \n",
       "13  [April 16, 2021 08:00AM, April 01, 2021 07:00A...  \n",
       "14  [April 16, 2021 08:00AM, April 01, 2021 07:00A...  \n",
       "15  [April 16, 2021 08:00AM, April 01, 2021 07:00A...  \n",
       "16  [April 16, 2021 08:00AM, April 01, 2021 07:00A...  \n",
       "17  [April 16, 2021 08:00AM, April 01, 2021 07:00A...  \n",
       "18  [April 16, 2021 08:00AM, April 01, 2021 07:00A...  \n",
       "19  [April 16, 2021 08:00AM, April 01, 2021 07:00A...  "
      ]
     },
     "execution_count": 67,
     "metadata": {},
     "output_type": "execute_result"
    }
   ],
   "source": [
    "df = pd.DataFrame(df_all)\n",
    "df"
   ]
  },
  {
   "cell_type": "code",
   "execution_count": 71,
   "metadata": {},
   "outputs": [],
   "source": [
    "# output dataframe to a csv\n",
    "df.to_csv('../trd_insights_scrape.csv', index=False)"
   ]
  },
  {
   "cell_type": "code",
   "execution_count": null,
   "metadata": {},
   "outputs": [],
   "source": []
  }
 ],
 "metadata": {
  "kernelspec": {
   "display_name": "Python 3",
   "language": "python",
   "name": "python3"
  },
  "language_info": {
   "codemirror_mode": {
    "name": "ipython",
    "version": 3
   },
   "file_extension": ".py",
   "mimetype": "text/x-python",
   "name": "python",
   "nbconvert_exporter": "python",
   "pygments_lexer": "ipython3",
   "version": "3.8.3"
  }
 },
 "nbformat": 4,
 "nbformat_minor": 4
}
