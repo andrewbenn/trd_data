{
 "cells": [
  {
   "cell_type": "code",
   "execution_count": 1,
   "metadata": {},
   "outputs": [],
   "source": [
    "# import libraries\n",
    "\n",
    "from bs4 import BeautifulSoup  ## web scraping\n",
    "import requests ## request html for a page(s)\n",
    "import csv ## read or write to csv\n",
    "import pandas as pd ## pandas to work with data\n",
    "import re ## regular express in one of our functions"
   ]
  },
  {
   "cell_type": "code",
   "execution_count": 3,
   "metadata": {},
   "outputs": [
    {
     "data": {
      "text/plain": [
       "'https://therealdeal.com/tag/trd-insights/page/{}/'"
      ]
     },
     "execution_count": 3,
     "metadata": {},
     "output_type": "execute_result"
    }
   ],
   "source": [
    "base_link = \"https://therealdeal.com/tag/trd-insights/page/{}/\"\n",
    "base_link"
   ]
  },
  {
   "cell_type": "code",
   "execution_count": 6,
   "metadata": {},
   "outputs": [
    {
     "name": "stdout",
     "output_type": "stream",
     "text": [
      "1\n",
      "https://therealdeal.com/tag/trd-insights/page/1/\n",
      "2\n",
      "https://therealdeal.com/tag/trd-insights/page/2/\n",
      "3\n",
      "https://therealdeal.com/tag/trd-insights/page/3/\n",
      "4\n",
      "https://therealdeal.com/tag/trd-insights/page/4/\n",
      "5\n",
      "https://therealdeal.com/tag/trd-insights/page/5/\n",
      "6\n",
      "https://therealdeal.com/tag/trd-insights/page/6/\n",
      "7\n",
      "https://therealdeal.com/tag/trd-insights/page/7/\n",
      "8\n",
      "https://therealdeal.com/tag/trd-insights/page/8/\n",
      "9\n",
      "https://therealdeal.com/tag/trd-insights/page/9/\n",
      "10\n",
      "https://therealdeal.com/tag/trd-insights/page/10/\n",
      "11\n",
      "https://therealdeal.com/tag/trd-insights/page/11/\n",
      "12\n",
      "https://therealdeal.com/tag/trd-insights/page/12/\n",
      "13\n",
      "https://therealdeal.com/tag/trd-insights/page/13/\n",
      "14\n",
      "https://therealdeal.com/tag/trd-insights/page/14/\n",
      "15\n",
      "https://therealdeal.com/tag/trd-insights/page/15/\n",
      "16\n",
      "https://therealdeal.com/tag/trd-insights/page/16/\n",
      "17\n",
      "https://therealdeal.com/tag/trd-insights/page/17/\n",
      "18\n",
      "https://therealdeal.com/tag/trd-insights/page/18/\n",
      "19\n",
      "https://therealdeal.com/tag/trd-insights/page/19/\n"
     ]
    }
   ],
   "source": [
    "all_urls_fl = []\n",
    "for url_number in range(1,20):\n",
    "    print(url_number)\n",
    "    print(base_link.format(url_number))\n",
    "    all_urls_fl.append(base_link.format(url_number))"
   ]
  },
  {
   "cell_type": "code",
   "execution_count": 7,
   "metadata": {},
   "outputs": [
    {
     "data": {
      "text/plain": [
       "['https://therealdeal.com/tag/trd-insights/page/1/',\n",
       " 'https://therealdeal.com/tag/trd-insights/page/2/',\n",
       " 'https://therealdeal.com/tag/trd-insights/page/3/',\n",
       " 'https://therealdeal.com/tag/trd-insights/page/4/',\n",
       " 'https://therealdeal.com/tag/trd-insights/page/5/',\n",
       " 'https://therealdeal.com/tag/trd-insights/page/6/',\n",
       " 'https://therealdeal.com/tag/trd-insights/page/7/',\n",
       " 'https://therealdeal.com/tag/trd-insights/page/8/',\n",
       " 'https://therealdeal.com/tag/trd-insights/page/9/',\n",
       " 'https://therealdeal.com/tag/trd-insights/page/10/',\n",
       " 'https://therealdeal.com/tag/trd-insights/page/11/',\n",
       " 'https://therealdeal.com/tag/trd-insights/page/12/',\n",
       " 'https://therealdeal.com/tag/trd-insights/page/13/',\n",
       " 'https://therealdeal.com/tag/trd-insights/page/14/',\n",
       " 'https://therealdeal.com/tag/trd-insights/page/15/',\n",
       " 'https://therealdeal.com/tag/trd-insights/page/16/',\n",
       " 'https://therealdeal.com/tag/trd-insights/page/17/',\n",
       " 'https://therealdeal.com/tag/trd-insights/page/18/',\n",
       " 'https://therealdeal.com/tag/trd-insights/page/19/']"
      ]
     },
     "execution_count": 7,
     "metadata": {},
     "output_type": "execute_result"
    }
   ],
   "source": [
    "all_urls_fl"
   ]
  },
  {
   "cell_type": "code",
   "execution_count": 8,
   "metadata": {},
   "outputs": [
    {
     "data": {
      "text/plain": [
       "'https://therealdeal.com/tag/trd-insights/page/{}/'"
      ]
     },
     "execution_count": 8,
     "metadata": {},
     "output_type": "execute_result"
    }
   ],
   "source": [
    "base_url"
   ]
  },
  {
   "cell_type": "code",
   "execution_count": 13,
   "metadata": {},
   "outputs": [],
   "source": [
    "total_pages = 20"
   ]
  },
  {
   "cell_type": "code",
   "execution_count": 14,
   "metadata": {},
   "outputs": [],
   "source": [
    "from random import randrange ##  allows us to randomize numbers library\n",
    "import time ## time tracker"
   ]
  },
  {
   "cell_type": "code",
   "execution_count": 12,
   "metadata": {},
   "outputs": [
    {
     "name": "stdout",
     "output_type": "stream",
     "text": [
      "200\n",
      "delay for 5 seconds before next url\n",
      "200\n",
      "delay for 4 seconds before next url\n",
      "200\n",
      "delay for 7 seconds before next url\n",
      "200\n",
      "delay for 7 seconds before next url\n",
      "200\n",
      "delay for 9 seconds before next url\n",
      "200\n",
      "delay for 9 seconds before next url\n",
      "200\n",
      "delay for 3 seconds before next url\n",
      "200\n",
      "delay for 4 seconds before next url\n",
      "200\n",
      "delay for 8 seconds before next url\n",
      "200\n",
      "delay for 3 seconds before next url\n",
      "200\n",
      "delay for 6 seconds before next url\n",
      "200\n",
      "delay for 3 seconds before next url\n",
      "200\n",
      "delay for 5 seconds before next url\n",
      "200\n",
      "delay for 9 seconds before next url\n",
      "200\n",
      "delay for 5 seconds before next url\n",
      "200\n",
      "delay for 8 seconds before next url\n",
      "200\n",
      "delay for 8 seconds before next url\n",
      "200\n",
      "delay for 3 seconds before next url\n"
     ]
    }
   ],
   "source": [
    "#for url_number in range(1,total_pages):\n",
    "#    link = base_url.format(url_number)\n",
    "#    site = requests.get(link)\n",
    "#    print(site.status_code)\n",
    "#    snooze = randrange(3,10)\n",
    "#    print(f\"delay for {snooze} seconds before next url\")\n",
    "#    time.sleep(snooze)"
   ]
  },
  {
   "cell_type": "code",
   "execution_count": null,
   "metadata": {},
   "outputs": [],
   "source": [
    "df_all = []\n",
    "for url_number in range(0,total_pages):\n",
    "    link = base_url.format(url_number)\n",
    "    site = requests.get(link)\n",
    "    print(site.status_code)\n",
    "    if site.status_code == 200:\n",
    "        soup = BeautifulSoup(site.content, \"html.parser\")\n",
    "        html = soup.prettify()  ## turn soup into html \n",
    "        df = pd.read_html(html) ## turn html table into a df using pandas\n",
    "        df_all.append(df[0]) ## append that first table to a list\n",
    "        snooze = randrange(3,6)\n",
    "        print(f\"snoozing for {snooze} seconds before next url\")\n",
    "        time.sleep(snooze)\n",
    "        \n",
    "    else: \n",
    "        print(f\"{link} returned: \", site.status_code)\n",
    "print(\"Done scraping\")"
   ]
  }
 ],
 "metadata": {
  "kernelspec": {
   "display_name": "Python 3",
   "language": "python",
   "name": "python3"
  },
  "language_info": {
   "codemirror_mode": {
    "name": "ipython",
    "version": 3
   },
   "file_extension": ".py",
   "mimetype": "text/x-python",
   "name": "python",
   "nbconvert_exporter": "python",
   "pygments_lexer": "ipython3",
   "version": "3.8.3"
  }
 },
 "nbformat": 4,
 "nbformat_minor": 4
}
